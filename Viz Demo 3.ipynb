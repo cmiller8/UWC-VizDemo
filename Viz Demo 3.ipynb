{
 "cells": [
  {
   "cell_type": "code",
   "execution_count": 12,
   "metadata": {
    "collapsed": true,
    "slideshow": {
     "slide_type": "skip"
    }
   },
   "outputs": [],
   "source": [
    "from IPython.display import HTML\n",
    "import pandas as pd\n",
    "import seaborn as sns\n",
    "import os\n",
    "%matplotlib inline\n",
    "from pylab import *"
   ]
  },
  {
   "cell_type": "code",
   "execution_count": null,
   "metadata": {
    "collapsed": false,
    "slideshow": {
     "slide_type": "skip"
    }
   },
   "outputs": [],
   "source": [
    "#%%javascript\n",
    "#IPython.load_extensions('IPython-notebook-extensions-3.x/usability/hide_input_all');"
   ]
  },
  {
   "cell_type": "code",
   "execution_count": 9,
   "metadata": {
    "collapsed": false,
    "slideshow": {
     "slide_type": "skip"
    }
   },
   "outputs": [
    {
     "data": {
      "text/html": [
       "<style>\n",
       "    @font-face {\n",
       "        font-family: \"Computer Modern\";\n",
       "        src: url('http://mirrors.ctan.org/fonts/cm-unicode/fonts/otf/cmunss.otf');\n",
       "    }\n",
       "    div.cell{\n",
       "        width:800px;\n",
       "        margin-left:16% !important;\n",
       "        margin-right:auto;\n",
       "    }\n",
       "    h1 {\n",
       "        font-family: Helvetica, serif;\n",
       "    }\n",
       "    h4{\n",
       "        margin-top:12px;\n",
       "        margin-bottom: 3px;\n",
       "       }\n",
       "    div.text_cell_render{\n",
       "        font-family: Computer Modern, \"Helvetica Neue\", Arial, Helvetica, Geneva, sans-serif;\n",
       "        line-height: 145%;\n",
       "        font-size: 130%;\n",
       "        width:800px;\n",
       "        margin-left:auto;\n",
       "        margin-right:auto;\n",
       "    }\n",
       "    .CodeMirror{\n",
       "            font-family: \"Source Code Pro\", source-code-pro,Consolas, monospace;\n",
       "    }\n",
       "    .prompt{\n",
       "        display: None;\n",
       "    }\n",
       "    .text_cell_render h5 {\n",
       "        font-weight: 300;\n",
       "        font-size: 22pt;\n",
       "        color: #4057A1;\n",
       "        font-style: italic;\n",
       "        margin-bottom: .5em;\n",
       "        margin-top: 0.5em;\n",
       "        display: block;\n",
       "    }\n",
       "    \n",
       "    .warning{\n",
       "        color: rgb( 240, 20, 20 )\n",
       "        }  \n",
       "</style>\n",
       "<script>\n",
       "    MathJax.Hub.Config({\n",
       "                        TeX: {\n",
       "                           extensions: [\"AMSmath.js\"]\n",
       "                           },\n",
       "                tex2jax: {\n",
       "                    inlineMath: [ ['$','$'], [\"\\\\(\",\"\\\\)\"] ],\n",
       "                    displayMath: [ ['$$','$$'], [\"\\\\[\",\"\\\\]\"] ]\n",
       "                },\n",
       "                displayAlign: 'center', // Change this to 'center' to center equations.\n",
       "                \"HTML-CSS\": {\n",
       "                    styles: {'.MathJax_Display': {\"margin\": 4}}\n",
       "                }\n",
       "        });\n",
       "</script>"
      ],
      "text/plain": [
       "<IPython.core.display.HTML object>"
      ]
     },
     "execution_count": 9,
     "metadata": {},
     "output_type": "execute_result"
    }
   ],
   "source": [
    "from IPython.core.display import HTML\n",
    "from IPython.core.display import Image \n",
    "def css_styling():\n",
    "    styles = open(\"./styles/custom.css\", \"r\").read()\n",
    "    return HTML(styles)\n",
    "css_styling()"
   ]
  },
  {
   "cell_type": "markdown",
   "metadata": {
    "slideshow": {
     "slide_type": "slide"
    }
   },
   "source": [
    "#\"What the heck are you going to do with all of that data?\""
   ]
  },
  {
   "cell_type": "markdown",
   "metadata": {
    "slideshow": {
     "slide_type": "fragment"
    }
   },
   "source": [
    "###UWC Dover Data Analysis Roadmap\n",
    "\n",
    "###May 12, 2015\n",
    "\n"
   ]
  },
  {
   "cell_type": "markdown",
   "metadata": {
    "slideshow": {
     "slide_type": "slide"
    }
   },
   "source": [
    "###1. What is a REST API?\n",
    "###2. Management and basic dashboard visualization\n",
    "###3. Data for occupants and visitors\n",
    "###4. Data for researchers and technicians"
   ]
  },
  {
   "cell_type": "markdown",
   "metadata": {
    "slideshow": {
     "slide_type": "slide"
    }
   },
   "source": [
    "## What is a REST API?\n",
    "\n",
    "### Let's look at the world's most common API: Twitter"
   ]
  },
  {
   "cell_type": "markdown",
   "metadata": {
    "code_folding": [
     3
    ],
    "collapsed": false,
    "scrolled": true,
    "slideshow": {
     "slide_type": "subslide"
    }
   },
   "source": [
    "![alt text][2]\n",
    "\n",
    "  [2]: ./twitterapi.png"
   ]
  },
  {
   "cell_type": "markdown",
   "metadata": {
    "slideshow": {
     "slide_type": "subslide"
    }
   },
   "source": [
    "####First, we need to let twitter know who we are (Authentication)"
   ]
  },
  {
   "cell_type": "code",
   "execution_count": 11,
   "metadata": {
    "collapsed": false,
    "slideshow": {
     "slide_type": "-"
    }
   },
   "outputs": [
    {
     "name": "stdout",
     "output_type": "stream",
     "text": [
      "<twitter.api.Twitter object at 0x1156e5fd0>\n"
     ]
    }
   ],
   "source": [
    "import twitter\n",
    "def oauth_login():\n",
    "    CONSUMER_KEY = 'WqnZAyAxATaBPcvBiDnLbISen'\n",
    "    CONSUMER_SECRET = 'yOsSbDCJ6hwcDqewUWPFqjZm5vfOxrRwdWRs4LrXP7friWkVvX'\n",
    "    OAUTH_TOKEN = '16507031-V8WD185o9nxIf2Gk5I6OmIxfCGz4rLYjD11d9Rp1L'\n",
    "    OAUTH_TOKEN_SECRET = 'yFgHgiVfJhOH0Tv0adudffEiA2TgQ9XRlJ0OVjo19ZaWq'\n",
    "    auth = twitter.oauth.OAuth(OAUTH_TOKEN, OAUTH_TOKEN_SECRET, CONSUMER_KEY, CONSUMER_SECRET)\n",
    "    twitter_api = twitter.Twitter(auth=auth)\n",
    "    return twitter_api\n",
    "twitter_api = oauth_login()    \n",
    "print twitter_api"
   ]
  },
  {
   "cell_type": "markdown",
   "metadata": {
    "slideshow": {
     "slide_type": "skip"
    }
   },
   "source": [
    "From: http://nbviewer.ipython.org/github/furukama/Mining-the-Social-Web-2nd-Edition/blob/master/ipynb/Chapter%209%20-%20Twitter%20Cookbook.ipynb]\n",
    "\n",
    "And: http://nbviewer.ipython.org/github/furukama/Mining-the-Social-Web-2nd-Edition/blob/master/ipynb/__Chapter%201%20-%20Mining%20Twitter%20%28Full-Text%20Sampler%29.ipynb"
   ]
  },
  {
   "cell_type": "markdown",
   "metadata": {
    "slideshow": {
     "slide_type": "subslide"
    }
   },
   "source": [
    "####Now, we create a script to query the API to find what are the latest trends"
   ]
  },
  {
   "cell_type": "code",
   "execution_count": 13,
   "metadata": {
    "collapsed": false,
    "scrolled": true,
    "slideshow": {
     "slide_type": "-"
    }
   },
   "outputs": [
    {
     "name": "stdout",
     "output_type": "stream",
     "text": [
      "[\n",
      " {\n",
      "  \"created_at\": \"2015-05-12T05:13:27Z\", \n",
      "  \"trends\": [\n",
      "   {\n",
      "    \"url\": \"http://twitter.com/search?q=Tinelli\", \n",
      "    \"query\": \"Tinelli\", \n",
      "    \"name\": \"Tinelli\", \n",
      "    \"promoted_content\": null\n",
      "   }, \n",
      "   {\n",
      "    \"url\": \"http://twitter.com/search?q=%23HipsterCrimes\", \n",
      "    \"query\": \"%23HipsterCrimes\", \n",
      "    \"name\": \"#HipsterCrimes\", \n",
      "    \"promoted_content\": null\n",
      "   }, \n",
      "   {\n",
      "    \"url\": \"http://twitter.com/search?q=%23LasChicasOdian\", \n",
      "    \"query\": \"%23LasChicasOdian\", \n",
      "    \"name\": \"#LasChicasOdian\", \n",
      "    \"promoted_content\": null\n",
      "   }, \n",
      "   {\n",
      "    \"url\": \"http://twitter.com/search?q=%23AmoTwitterPq\", \n",
      "    \"query\": \"%23AmoTwitterPq\", \n",
      "    \"name\": \"#AmoTwitterPq\", \n",
      "    \"promoted_content\": null\n",
      "   }, \n",
      "   {\n",
      "    \"url\": \"http://twitter.com/search?q=Lali\", \n",
      "    \"query\": \"Lali\", \n",
      "    \"name\": \"Lali\", \n",
      "    \"promoted_content\": null\n",
      "   }, \n",
      "   {\n",
      "    \"url\": \"http://twitter.com/search?q=%23NoPuedoVivirSin\", \n",
      "    \"query\": \"%23NoPuedoVivirSin\", \n",
      "    \"name\": \"#NoPuedoVivirSin\", \n",
      "    \"promoted_content\": null\n",
      "   }, \n",
      "   {\n",
      "    \"url\": \"http://twitter.com/search?q=%23%D9%85%D8%B2%D8%A7%D8%AC%D9%8A_%D8%A7%D9%84%D8%A7%D9%86_%D9%8A%D8%AD%D8%AA%D8%A7%D8%AC\", \n",
      "    \"query\": \"%23%D9%85%D8%B2%D8%A7%D8%AC%D9%8A_%D8%A7%D9%84%D8%A7%D9%86_%D9%8A%D8%AD%D8%AA%D8%A7%D8%AC\", \n",
      "    \"name\": \"#\\u0645\\u0632\\u0627\\u062c\\u064a_\\u0627\\u0644\\u0627\\u0646_\\u064a\\u062d\\u062a\\u0627\\u062c\", \n",
      "    \"promoted_content\": null\n",
      "   }, \n",
      "   {\n",
      "    \"url\": \"http://twitter.com/search?q=Fort\", \n",
      "    \"query\": \"Fort\", \n",
      "    \"name\": \"Fort\", \n",
      "    \"promoted_content\": null\n",
      "   }, \n",
      "   {\n",
      "    \"url\": \"http://twitter.com/search?q=%22Karina+Rabolini%22\", \n",
      "    \"query\": \"%22Karina+Rabolini%22\", \n",
      "    \"name\": \"Karina Rabolini\", \n",
      "    \"promoted_content\": null\n",
      "   }, \n",
      "   {\n",
      "    \"url\": \"http://twitter.com/search?q=%22Daniel+Bryan%22\", \n",
      "    \"query\": \"%22Daniel+Bryan%22\", \n",
      "    \"name\": \"Daniel Bryan\", \n",
      "    \"promoted_content\": null\n",
      "   }\n",
      "  ], \n",
      "  \"as_of\": \"2015-05-12T05:15:54Z\", \n",
      "  \"locations\": [\n",
      "   {\n",
      "    \"woeid\": 1, \n",
      "    \"name\": \"Worldwide\"\n",
      "   }\n",
      "  ]\n",
      " }\n",
      "]\n"
     ]
    }
   ],
   "source": [
    "import json\n",
    "import twitter\n",
    "def twitter_trends(twitter_api, woe_id):\n",
    "    return twitter_api.trends.place(_id=woe_id)\n",
    "twitter_api = oauth_login()\n",
    "WORLD_WOE_ID = 1\n",
    "world_trends = twitter_trends(twitter_api, WORLD_WOE_ID)\n",
    "print json.dumps(world_trends, indent=1)"
   ]
  },
  {
   "cell_type": "markdown",
   "metadata": {
    "slideshow": {
     "slide_type": "subslide"
    }
   },
   "source": [
    "####Now, let's make a query to find the most recent 100 tweets with a certain hashtag"
   ]
  },
  {
   "cell_type": "code",
   "execution_count": 14,
   "metadata": {
    "collapsed": false
   },
   "outputs": [
    {
     "name": "stdout",
     "output_type": "stream",
     "text": [
      "[\n",
      " {\n",
      "  \"contributors\": null, \n",
      "  \"truncated\": false, \n",
      "  \"text\": \"Adopting children in your own country instead of adopting from a third world country. #HipsterCrimes @midnight @lootcrate\", \n",
      "  \"in_reply_to_status_id\": null, \n",
      "  \"id\": 597993566879657984, \n",
      "  \"favorite_count\": 0, \n",
      "  \"source\": \"<a href=\\\"http://twitter.com\\\" rel=\\\"nofollow\\\">Twitter Web Client</a>\", \n",
      "  \"retweeted\": false, \n",
      "  \"coordinates\": null, \n",
      "  \"entities\": {\n",
      "   \"symbols\": [], \n",
      "   \"user_mentions\": [\n",
      "    {\n",
      "     \"id\": 1418745782, \n",
      "     \"indices\": [\n",
      "      101, \n",
      "      110\n",
      "     ], \n",
      "     \"id_str\": \"1418745782\", \n",
      "     \"screen_name\": \"midnight\", \n",
      "     \"name\": \"@midnight\"\n",
      "    }, \n",
      "    {\n",
      "     \"id\": 709226545, \n",
      "     \"indices\": [\n",
      "      111, \n",
      "      121\n",
      "     ], \n",
      "     \"id_str\": \"709226545\", \n",
      "     \"screen_name\": \"lootcrate\", \n",
      "     \"name\": \"Loot Crate\"\n",
      "    }\n",
      "   ], \n",
      "   \"hashtags\": [\n",
      "    {\n",
      "     \"indices\": [\n",
      "      86, \n",
      "      100\n",
      "     ], \n",
      "     \"text\": \"HipsterCrimes\"\n",
      "    }\n",
      "   ], \n",
      "   \"urls\": []\n",
      "  }, \n",
      "  \"in_reply_to_screen_name\": null, \n",
      "  \"in_reply_to_user_id\": null, \n",
      "  \"retweet_count\": 0, \n",
      "  \"id_str\": \"597993566879657984\", \n",
      "  \"favorited\": false, \n",
      "  \"user\": {\n",
      "   \"follow_request_sent\": false, \n",
      "   \"profile_use_background_image\": false, \n",
      "   \"default_profile_image\": false, \n",
      "   \"id\": 2994399180, \n",
      "   \"profile_background_image_url_https\": \"https://abs.twimg.com/images/themes/theme1/bg.png\", \n",
      "   \"verified\": false, \n",
      "   \"profile_text_color\": \"000000\", \n",
      "   \"profile_image_url_https\": \"https://pbs.twimg.com/profile_images/597260647877840896/Ey-QG37L_normal.jpg\", \n",
      "   \"profile_sidebar_fill_color\": \"000000\", \n",
      "   \"entities\": {\n",
      "    \"description\": {\n",
      "     \"urls\": []\n",
      "    }\n",
      "   }, \n",
      "   \"followers_count\": 352, \n",
      "   \"profile_sidebar_border_color\": \"000000\", \n",
      "   \"id_str\": \"2994399180\", \n",
      "   \"profile_background_color\": \"000000\", \n",
      "   \"listed_count\": 3, \n",
      "   \"is_translation_enabled\": false, \n",
      "   \"utc_offset\": -14400, \n",
      "   \"statuses_count\": 3660, \n",
      "   \"description\": \"Metaphysical comedian, cosmic hermit, awful poet, political atheist, goofy goth and now life coach for the undead -- take your pick!\", \n",
      "   \"friends_count\": 475, \n",
      "   \"location\": \"Somewhere\", \n",
      "   \"profile_link_color\": \"3B94D9\", \n",
      "   \"profile_image_url\": \"http://pbs.twimg.com/profile_images/597260647877840896/Ey-QG37L_normal.jpg\", \n",
      "   \"following\": false, \n",
      "   \"geo_enabled\": false, \n",
      "   \"profile_banner_url\": \"https://pbs.twimg.com/profile_banners/2994399180/1425282055\", \n",
      "   \"profile_background_image_url\": \"http://abs.twimg.com/images/themes/theme1/bg.png\", \n",
      "   \"screen_name\": \"BobGhoulio\", \n",
      "   \"lang\": \"en\", \n",
      "   \"profile_background_tile\": false, \n",
      "   \"favourites_count\": 3100, \n",
      "   \"name\": \"Bob Ghoulio\", \n",
      "   \"notifications\": false, \n",
      "   \"url\": null, \n",
      "   \"created_at\": \"Sat Jan 24 10:03:35 +0000 2015\", \n",
      "   \"contributors_enabled\": false, \n",
      "   \"time_zone\": \"Eastern Time (US & Canada)\", \n",
      "   \"protected\": false, \n",
      "   \"default_profile\": false, \n",
      "   \"is_translator\": false\n",
      "  }, \n",
      "  \"geo\": null, \n",
      "  \"in_reply_to_user_id_str\": null, \n",
      "  \"lang\": \"en\", \n",
      "  \"created_at\": \"Tue May 12 05:15:51 +0000 2015\", \n",
      "  \"in_reply_to_status_id_str\": null, \n",
      "  \"place\": null, \n",
      "  \"metadata\": {\n",
      "   \"iso_language_code\": \"en\", \n",
      "   \"result_type\": \"recent\"\n",
      "  }\n",
      " }, \n",
      " {\n",
      "  \"contributors\": null, \n",
      "  \"truncated\": false, \n",
      "  \"text\": \"Birkenstalking #HipsterCrimes\", \n",
      "  \"in_reply_to_status_id\": null, \n",
      "  \"id\": 597993566644752384, \n",
      "  \"favorite_count\": 0, \n",
      "  \"source\": \"<a href=\\\"http://twitter.com/download/iphone\\\" rel=\\\"nofollow\\\">Twitter for iPhone</a>\", \n",
      "  \"retweeted\": false, \n",
      "  \"coordinates\": null, \n",
      "  \"entities\": {\n",
      "   \"symbols\": [], \n",
      "   \"user_mentions\": [], \n",
      "   \"hashtags\": [\n",
      "    {\n",
      "     \"indices\": [\n",
      "      15, \n",
      "      29\n",
      "     ], \n",
      "     \"text\": \"HipsterCrimes\"\n",
      "    }\n",
      "   ], \n",
      "   \"urls\": []\n",
      "  }, \n",
      "  \"in_reply_to_screen_name\": null, \n",
      "  \"in_reply_to_user_id\": null, \n",
      "  \"retweet_count\": 0, \n",
      "  \"id_str\": \"597993566644752384\", \n",
      "  \"favorited\": false, \n",
      "  \"user\": {\n",
      "   \"follow_request_sent\": false, \n",
      "   \"profile_use_background_image\": true, \n",
      "   \"default_profile_image\": false, \n",
      "   \"id\": 626431709, \n",
      "   \"profile_background_image_url_https\": \"https://abs.twimg.com/images/themes/theme1/bg.png\", \n",
      "   \"verified\": false, \n",
      "   \"profile_text_color\": \"333333\", \n",
      "   \"profile_image_url_https\": \"https://pbs.twimg.com/profile_images/461556753235058689/gHXHwQdp_normal.jpeg\", \n",
      "   \"profile_sidebar_fill_color\": \"DDEEF6\", \n",
      "   \"entities\": {\n",
      "    \"description\": {\n",
      "     \"urls\": []\n",
      "    }\n",
      "   }, \n",
      "   \"followers_count\": 208, \n",
      "   \"profile_sidebar_border_color\": \"C0DEED\", \n",
      "   \"id_str\": \"626431709\", \n",
      "   \"profile_background_color\": \"C0DEED\", \n",
      "   \"listed_count\": 3, \n",
      "   \"is_translation_enabled\": false, \n",
      "   \"utc_offset\": null, \n",
      "   \"statuses_count\": 2152, \n",
      "   \"description\": \"have you even tried to party more?\", \n",
      "   \"friends_count\": 225, \n",
      "   \"location\": \"\", \n",
      "   \"profile_link_color\": \"0084B4\", \n",
      "   \"profile_image_url\": \"http://pbs.twimg.com/profile_images/461556753235058689/gHXHwQdp_normal.jpeg\", \n",
      "   \"following\": false, \n",
      "   \"geo_enabled\": false, \n",
      "   \"profile_banner_url\": \"https://pbs.twimg.com/profile_banners/626431709/1413618343\", \n",
      "   \"profile_background_image_url\": \"http://abs.twimg.com/images/themes/theme1/bg.png\", \n",
      "   \"screen_name\": \"rtsheedz\", \n",
      "   \"lang\": \"en\", \n",
      "   \"profile_background_tile\": false, \n",
      "   \"favourites_count\": 705, \n",
      "   \"name\": \"slim sheedz\", \n",
      "   \"notifications\": false, \n",
      "   \"url\": null, \n",
      "   \"created_at\": \"Wed Jul 04 12:47:21 +0000 2012\", \n",
      "   \"contributors_enabled\": false, \n",
      "   \"time_zone\": null, \n",
      "   \"protected\": false, \n",
      "   \"default_profile\": true, \n",
      "   \"is_translator\": false\n",
      "  }, \n",
      "  \"geo\": null, \n",
      "  \"in_reply_to_user_id_str\": null, \n",
      "  \"lang\": \"en\", \n",
      "  \"created_at\": \"Tue May 12 05:15:51 +0000 2015\", \n",
      "  \"in_reply_to_status_id_str\": null, \n",
      "  \"place\": null, \n",
      "  \"metadata\": {\n",
      "   \"iso_language_code\": \"en\", \n",
      "   \"result_type\": \"recent\"\n",
      "  }\n",
      " }, \n",
      " {\n",
      "  \"contributors\": null, \n",
      "  \"truncated\": false, \n",
      "  \"text\": \"\\u201c@LAScanner: LOS FELIZ: Find me a MORE HIPSTER crime than a hobo \\\"using a wooden washboard\\\" to fight. LAPD enrte.\\u201d #HipsterCrimes @midnight\", \n",
      "  \"in_reply_to_status_id\": 597990083460014081, \n",
      "  \"id\": 597993556112871424, \n",
      "  \"favorite_count\": 0, \n",
      "  \"source\": \"<a href=\\\"http://twitter.com/#!/download/ipad\\\" rel=\\\"nofollow\\\">Twitter for iPad</a>\", \n",
      "  \"retweeted\": false, \n",
      "  \"coordinates\": null, \n",
      "  \"entities\": {\n",
      "   \"symbols\": [], \n",
      "   \"user_mentions\": [\n",
      "    {\n",
      "     \"id\": 283895895, \n",
      "     \"indices\": [\n",
      "      1, \n",
      "      11\n",
      "     ], \n",
      "     \"id_str\": \"283895895\", \n",
      "     \"screen_name\": \"LAScanner\", \n",
      "     \"name\": \"@LAScanner\"\n",
      "    }, \n",
      "    {\n",
      "     \"id\": 1418745782, \n",
      "     \"indices\": [\n",
      "      130, \n",
      "      139\n",
      "     ], \n",
      "     \"id_str\": \"1418745782\", \n",
      "     \"screen_name\": \"midnight\", \n",
      "     \"name\": \"@midnight\"\n",
      "    }\n",
      "   ], \n",
      "   \"hashtags\": [\n",
      "    {\n",
      "     \"indices\": [\n",
      "      115, \n",
      "      129\n",
      "     ], \n",
      "     \"text\": \"HipsterCrimes\"\n",
      "    }\n",
      "   ], \n",
      "   \"urls\": []\n",
      "  }, \n",
      "  \"in_reply_to_screen_name\": \"LAScanner\", \n",
      "  \"in_reply_to_user_id\": 283895895, \n",
      "  \"retweet_count\": 0, \n",
      "  \"id_str\": \"597993556112871424\", \n",
      "  \"favorited\": false, \n",
      "  \"user\": {\n",
      "   \"follow_request_sent\": false, \n",
      "   \"profile_use_background_image\": false, \n",
      "   \"default_profile_image\": false, \n",
      "   \"id\": 1938501492, \n",
      "   \"profile_background_image_url_https\": \"https://abs.twimg.com/images/themes/theme1/bg.png\", \n",
      "   \"verified\": false, \n",
      "   \"profile_text_color\": \"000000\", \n",
      "   \"profile_image_url_https\": \"https://pbs.twimg.com/profile_images/597851660916916225/Nv3Jrep3_normal.jpg\", \n",
      "   \"profile_sidebar_fill_color\": \"000000\", \n",
      "   \"entities\": {\n",
      "    \"description\": {\n",
      "     \"urls\": []\n",
      "    }\n",
      "   }, \n",
      "   \"followers_count\": 16, \n",
      "   \"profile_sidebar_border_color\": \"000000\", \n",
      "   \"id_str\": \"1938501492\", \n",
      "   \"profile_background_color\": \"000000\", \n",
      "   \"listed_count\": 1, \n",
      "   \"is_translation_enabled\": false, \n",
      "   \"utc_offset\": -25200, \n",
      "   \"statuses_count\": 244, \n",
      "   \"description\": \"\", \n",
      "   \"friends_count\": 207, \n",
      "   \"location\": \" Los Angeles - born and raised\", \n",
      "   \"profile_link_color\": \"ABB8C2\", \n",
      "   \"profile_image_url\": \"http://pbs.twimg.com/profile_images/597851660916916225/Nv3Jrep3_normal.jpg\", \n",
      "   \"following\": false, \n",
      "   \"geo_enabled\": false, \n",
      "   \"profile_banner_url\": \"https://pbs.twimg.com/profile_banners/1938501492/1431373617\", \n",
      "   \"profile_background_image_url\": \"http://abs.twimg.com/images/themes/theme1/bg.png\", \n",
      "   \"screen_name\": \"krislaika\", \n",
      "   \"lang\": \"en\", \n",
      "   \"profile_background_tile\": false, \n",
      "   \"favourites_count\": 890, \n",
      "   \"name\": \"Kristal\", \n",
      "   \"notifications\": false, \n",
      "   \"url\": null, \n",
      "   \"created_at\": \"Sat Oct 05 18:44:19 +0000 2013\", \n",
      "   \"contributors_enabled\": false, \n",
      "   \"time_zone\": \"Arizona\", \n",
      "   \"protected\": false, \n",
      "   \"default_profile\": false, \n",
      "   \"is_translator\": false\n",
      "  }, \n",
      "  \"geo\": null, \n",
      "  \"in_reply_to_user_id_str\": \"283895895\", \n",
      "  \"lang\": \"en\", \n",
      "  \"created_at\": \"Tue May 12 05:15:48 +0000 2015\", \n",
      "  \"in_reply_to_status_id_str\": \"597990083460014081\", \n",
      "  \"place\": null, \n",
      "  \"metadata\": {\n",
      "   \"iso_language_code\": \"en\", \n",
      "   \"result_type\": \"recent\"\n",
      "  }\n",
      " }, \n",
      " {\n",
      "  \"contributors\": null, \n",
      "  \"truncated\": false, \n",
      "  \"text\": \"Giving the barista your real name. #HipsterCrimes @midnight\", \n",
      "  \"in_reply_to_status_id\": null, \n",
      "  \"id\": 597993556083605504, \n",
      "  \"favorite_count\": 0, \n",
      "  \"source\": \"<a href=\\\"http://twitter.com/download/android\\\" rel=\\\"nofollow\\\">Twitter for Android</a>\", \n",
      "  \"retweeted\": false, \n",
      "  \"coordinates\": null, \n",
      "  \"entities\": {\n",
      "   \"symbols\": [], \n",
      "   \"user_mentions\": [\n",
      "    {\n",
      "     \"id\": 1418745782, \n",
      "     \"indices\": [\n",
      "      50, \n",
      "      59\n",
      "     ], \n",
      "     \"id_str\": \"1418745782\", \n",
      "     \"screen_name\": \"midnight\", \n",
      "     \"name\": \"@midnight\"\n",
      "    }\n",
      "   ], \n",
      "   \"hashtags\": [\n",
      "    {\n",
      "     \"indices\": [\n",
      "      35, \n",
      "      49\n",
      "     ], \n",
      "     \"text\": \"HipsterCrimes\"\n",
      "    }\n",
      "   ], \n",
      "   \"urls\": []\n",
      "  }, \n",
      "  \"in_reply_to_screen_name\": null, \n",
      "  \"in_reply_to_user_id\": null, \n",
      "  \"retweet_count\": 0, \n",
      "  \"id_str\": \"597993556083605504\", \n",
      "  \"favorited\": false, \n",
      "  \"user\": {\n",
      "   \"follow_request_sent\": false, \n",
      "   \"profile_use_background_image\": true, \n",
      "   \"default_profile_image\": false, \n",
      "   \"id\": 2424844915, \n",
      "   \"profile_background_image_url_https\": \"https://abs.twimg.com/images/themes/theme4/bg.gif\", \n",
      "   \"verified\": false, \n",
      "   \"profile_text_color\": \"3C3940\", \n",
      "   \"profile_image_url_https\": \"https://pbs.twimg.com/profile_images/580051250949058560/8lyqVeZJ_normal.jpg\", \n",
      "   \"profile_sidebar_fill_color\": \"95E8EC\", \n",
      "   \"entities\": {\n",
      "    \"description\": {\n",
      "     \"urls\": []\n",
      "    }\n",
      "   }, \n",
      "   \"followers_count\": 1790, \n",
      "   \"profile_sidebar_border_color\": \"5ED4DC\", \n",
      "   \"id_str\": \"2424844915\", \n",
      "   \"profile_background_color\": \"0099B9\", \n",
      "   \"listed_count\": 26, \n",
      "   \"is_translation_enabled\": false, \n",
      "   \"utc_offset\": null, \n",
      "   \"statuses_count\": 11025, \n",
      "   \"description\": \"Can a lone dog survive in an internet that was clearly designed with cats in mind?\", \n",
      "   \"friends_count\": 1999, \n",
      "   \"location\": \"Everywhere, hard to miss\", \n",
      "   \"profile_link_color\": \"0099B9\", \n",
      "   \"profile_image_url\": \"http://pbs.twimg.com/profile_images/580051250949058560/8lyqVeZJ_normal.jpg\", \n",
      "   \"following\": false, \n",
      "   \"geo_enabled\": true, \n",
      "   \"profile_banner_url\": \"https://pbs.twimg.com/profile_banners/2424844915/1398796529\", \n",
      "   \"profile_background_image_url\": \"http://abs.twimg.com/images/themes/theme4/bg.gif\", \n",
      "   \"screen_name\": \"ubiquitousbdog\", \n",
      "   \"lang\": \"en\", \n",
      "   \"profile_background_tile\": false, \n",
      "   \"favourites_count\": 6814, \n",
      "   \"name\": \"Ubiquitous Bdog\", \n",
      "   \"notifications\": false, \n",
      "   \"url\": null, \n",
      "   \"created_at\": \"Thu Apr 03 04:14:54 +0000 2014\", \n",
      "   \"contributors_enabled\": false, \n",
      "   \"time_zone\": null, \n",
      "   \"protected\": false, \n",
      "   \"default_profile\": false, \n",
      "   \"is_translator\": false\n",
      "  }, \n",
      "  \"geo\": null, \n",
      "  \"in_reply_to_user_id_str\": null, \n",
      "  \"lang\": \"en\", \n",
      "  \"created_at\": \"Tue May 12 05:15:48 +0000 2015\", \n",
      "  \"in_reply_to_status_id_str\": null, \n",
      "  \"place\": null, \n",
      "  \"metadata\": {\n",
      "   \"iso_language_code\": \"en\", \n",
      "   \"result_type\": \"recent\"\n",
      "  }\n",
      " }, \n",
      " {\n",
      "  \"contributors\": null, \n",
      "  \"truncated\": false, \n",
      "  \"text\": \"Of course they take part with anything illegal because it's part of \\\"the scene\\\" these days. #HipsterCrimes #Scenesters @midnight\", \n",
      "  \"in_reply_to_status_id\": null, \n",
      "  \"id\": 597993553424293888, \n",
      "  \"favorite_count\": 0, \n",
      "  \"source\": \"<a href=\\\"http://twitter.com\\\" rel=\\\"nofollow\\\">Twitter Web Client</a>\", \n",
      "  \"retweeted\": false, \n",
      "  \"coordinates\": null, \n",
      "  \"entities\": {\n",
      "   \"symbols\": [], \n",
      "   \"user_mentions\": [\n",
      "    {\n",
      "     \"id\": 1418745782, \n",
      "     \"indices\": [\n",
      "      119, \n",
      "      128\n",
      "     ], \n",
      "     \"id_str\": \"1418745782\", \n",
      "     \"screen_name\": \"midnight\", \n",
      "     \"name\": \"@midnight\"\n",
      "    }\n",
      "   ], \n",
      "   \"hashtags\": [\n",
      "    {\n",
      "     \"indices\": [\n",
      "      92, \n",
      "      106\n",
      "     ], \n",
      "     \"text\": \"HipsterCrimes\"\n",
      "    }, \n",
      "    {\n",
      "     \"indices\": [\n",
      "      107, \n",
      "      118\n",
      "     ], \n",
      "     \"text\": \"Scenesters\"\n",
      "    }\n",
      "   ], \n",
      "   \"urls\": []\n",
      "  }, \n",
      "  \"in_reply_to_screen_name\": null, \n",
      "  \"in_reply_to_user_id\": null, \n",
      "  \"retweet_count\": 0, \n",
      "  \"id_str\": \"597993553424293888\", \n",
      "  \"favorited\": false, \n",
      "  \"user\": {\n",
      "   \"follow_request_sent\": false, \n",
      "   \"profile_use_background_image\": true, \n",
      "   \"default_profile_image\": false, \n",
      "   \"id\": 587818865, \n",
      "   \"profile_background_image_url_https\": \"https://abs.twimg.com/images/themes/theme9/bg.gif\", \n",
      "   \"verified\": false, \n",
      "   \"profile_text_color\": \"666666\", \n",
      "   \"profile_image_url_https\": \"https://pbs.twimg.com/profile_images/592715228451831809/8IWJ_wGX_normal.jpg\", \n",
      "   \"profile_sidebar_fill_color\": \"252429\", \n",
      "   \"entities\": {\n",
      "    \"description\": {\n",
      "     \"urls\": []\n",
      "    }\n",
      "   }, \n",
      "   \"followers_count\": 247, \n",
      "   \"profile_sidebar_border_color\": \"FFFFFF\", \n",
      "   \"id_str\": \"587818865\", \n",
      "   \"profile_background_color\": \"1A1B1F\", \n",
      "   \"listed_count\": 6, \n",
      "   \"is_translation_enabled\": false, \n",
      "   \"utc_offset\": null, \n",
      "   \"statuses_count\": 3549, \n",
      "   \"description\": \"On the @LAKings bandwagon since `76, L.A. native, believes all hockey fans should watch Slap Shot.  El Jefe at the best Kings FB group, Knights of the Forum.\", \n",
      "   \"friends_count\": 206, \n",
      "   \"location\": \"\", \n",
      "   \"profile_link_color\": \"491E8A\", \n",
      "   \"profile_image_url\": \"http://pbs.twimg.com/profile_images/592715228451831809/8IWJ_wGX_normal.jpg\", \n",
      "   \"following\": false, \n",
      "   \"geo_enabled\": true, \n",
      "   \"profile_banner_url\": \"https://pbs.twimg.com/profile_banners/587818865/1422353937\", \n",
      "   \"profile_background_image_url\": \"http://abs.twimg.com/images/themes/theme9/bg.gif\", \n",
      "   \"screen_name\": \"WerewolfAndros\", \n",
      "   \"lang\": \"en\", \n",
      "   \"profile_background_tile\": false, \n",
      "   \"favourites_count\": 4895, \n",
      "   \"name\": \"Andros\", \n",
      "   \"notifications\": false, \n",
      "   \"url\": null, \n",
      "   \"created_at\": \"Tue May 22 23:02:20 +0000 2012\", \n",
      "   \"contributors_enabled\": false, \n",
      "   \"time_zone\": null, \n",
      "   \"protected\": false, \n",
      "   \"default_profile\": false, \n",
      "   \"is_translator\": false\n",
      "  }, \n",
      "  \"geo\": null, \n",
      "  \"in_reply_to_user_id_str\": null, \n",
      "  \"lang\": \"en\", \n",
      "  \"created_at\": \"Tue May 12 05:15:47 +0000 2015\", \n",
      "  \"in_reply_to_status_id_str\": null, \n",
      "  \"place\": null, \n",
      "  \"metadata\": {\n",
      "   \"iso_language_code\": \"en\", \n",
      "   \"result_type\": \"recent\"\n",
      "  }\n",
      " }\n",
      "]\n"
     ]
    }
   ],
   "source": [
    "q = '#HipsterCrimes' \n",
    "count = 500\n",
    "search_results = twitter_api.search.tweets(q=q, count=count)\n",
    "statuses = search_results['statuses']\n",
    "# Iterate through 5 more batches of results by following the cursor\n",
    "for _ in range(5):\n",
    "    try:\n",
    "        next_results = search_results['search_metadata']['next_results']\n",
    "    except KeyError, e: # No more results when next_results doesn't exist\n",
    "        break\n",
    "    kwargs = dict([ kv.split('=') for kv in next_results[1:].split(\"&\") ])    \n",
    "    search_results = twitter_api.search.tweets(**kwargs)\n",
    "    statuses += search_results['statuses']\n",
    "# Show one sample search result by slicing the list...\n",
    "print json.dumps(statuses[0:5], indent=1)"
   ]
  },
  {
   "cell_type": "markdown",
   "metadata": {
    "slideshow": {
     "slide_type": "subslide"
    }
   },
   "source": [
    "####We can do cool things with this data like dissect statuses, screen names, etc"
   ]
  },
  {
   "cell_type": "code",
   "execution_count": 15,
   "metadata": {
    "collapsed": false,
    "slideshow": {
     "slide_type": "-"
    }
   },
   "outputs": [
    {
     "name": "stdout",
     "output_type": "stream",
     "text": [
      "A few tweets!:[\n",
      " \"Adopting children in your own country instead of adopting from a third world country. #HipsterCrimes @midnight @lootcrate\", \n",
      " \"Birkenstalking #HipsterCrimes\", \n",
      " \"\\u201c@LAScanner: LOS FELIZ: Find me a MORE HIPSTER crime than a hobo \\\"using a wooden washboard\\\" to fight. LAPD enrte.\\u201d #HipsterCrimes @midnight\", \n",
      " \"Giving the barista your real name. #HipsterCrimes @midnight\", \n",
      " \"Of course they take part with anything illegal because it's part of \\\"the scene\\\" these days. #HipsterCrimes #Scenesters @midnight\"\n",
      "]\n",
      "A few tweeters!:[\n",
      " \"midnight\", \n",
      " \"lootcrate\", \n",
      " \"LAScanner\", \n",
      " \"midnight\", \n",
      " \"midnight\"\n",
      "]\n",
      "A few hastags!:[\n",
      " \"HipsterCrimes\", \n",
      " \"HipsterCrimes\", \n",
      " \"HipsterCrimes\", \n",
      " \"HipsterCrimes\", \n",
      " \"HipsterCrimes\"\n",
      "]\n",
      "A few words used!:[\n",
      " \"Adopting\", \n",
      " \"children\", \n",
      " \"in\", \n",
      " \"your\", \n",
      " \"own\"\n",
      "]\n"
     ]
    }
   ],
   "source": [
    "status_texts = [ status['text'] \n",
    "                 for status in statuses ]\n",
    "screen_names = [ user_mention['screen_name'] \n",
    "                 for status in statuses\n",
    "                     for user_mention in status['entities']['user_mentions'] ]\n",
    "hashtags = [ hashtag['text'] \n",
    "             for status in statuses\n",
    "                 for hashtag in status['entities']['hashtags'] ]\n",
    "words = [ w for t in status_texts \n",
    "              for w in t.split() ]\n",
    "print \"A few tweets!:\" + json.dumps(status_texts[0:5], indent=1)\n",
    "print \"A few tweeters!:\" + json.dumps(screen_names[0:5], indent=1) \n",
    "print \"A few hastags!:\" + json.dumps(hashtags[0:5], indent=1)\n",
    "print \"A few words used!:\" + json.dumps(words[0:5], indent=1)"
   ]
  },
  {
   "cell_type": "markdown",
   "metadata": {
    "slideshow": {
     "slide_type": "subslide"
    }
   },
   "source": [
    "####And count the frequency that words are used in the tweets"
   ]
  },
  {
   "cell_type": "code",
   "execution_count": 16,
   "metadata": {
    "collapsed": false,
    "scrolled": true,
    "slideshow": {
     "slide_type": "-"
    }
   },
   "outputs": [
    {
     "name": "stdout",
     "output_type": "stream",
     "text": [
      "[(u'#HipsterCrimes', 188), (u'@midnight', 140), (u'RT', 50), (u'a', 40), (u'of', 30), (u'the', 29), (u'in', 23), (u'to', 21), (u'your', 21), (u'and', 19)]\n",
      "\n",
      "[(u'midnight', 143), (u'DeCample', 8), (u'lootcrate', 2), (u'taygogo', 2), (u'BadRonen', 2), (u'Letti4U', 2), (u'axetothemax', 2), (u'tonyposnanski', 2), (u'awasmoen', 1), (u'SinCityChiGirl', 1)]\n",
      "\n",
      "[(u'HipsterCrimes', 192), (u'hipstercrimes', 8), (u'qutblf', 2), (u'paec', 2), (u'usudecides', 2), (u'DCFC', 1), (u'pot', 1), (u'Scenesters', 1), (u'Repent', 1), (u'UnhipHipster', 1)]\n",
      "\n"
     ]
    }
   ],
   "source": [
    "from collections import Counter\n",
    "\n",
    "for item in [words, screen_names, hashtags]:\n",
    "    c = Counter(item)\n",
    "    print c.most_common()[:10]\n",
    "    print"
   ]
  },
  {
   "cell_type": "markdown",
   "metadata": {
    "slideshow": {
     "slide_type": "subslide"
    }
   },
   "source": [
    "####And make plots from the data"
   ]
  },
  {
   "cell_type": "code",
   "execution_count": 17,
   "metadata": {
    "collapsed": false
   },
   "outputs": [
    {
     "data": {
      "image/png": "[encoded data removed]",
      "text/plain": [
       "<matplotlib.figure.Figure at 0x1157fb390>"
      ]
     },
     "metadata": {},
     "output_type": "display_data"
    },
    {
     "data": {
      "image/png": "[encoded data removed]",
      "text/plain": [
       "<matplotlib.figure.Figure at 0x105a1de50>"
      ]
     },
     "metadata": {},
     "output_type": "display_data"
    },
    {
     "data": {
      "image/png": "[encoded data removed]",
      "text/plain": [
       "<matplotlib.figure.Figure at 0x106ba8ed0>"
      ]
     },
     "metadata": {},
     "output_type": "display_data"
    },
    {
     "data": {
      "text/plain": [
       "<matplotlib.figure.Figure at 0x105a5dc50>"
      ]
     },
     "metadata": {},
     "output_type": "display_data"
    }
   ],
   "source": [
    "word_counts = sorted(Counter(words), reverse=True)\n",
    "for label, data in (('Words', words), \n",
    "                    ('Screen Names', screen_names), \n",
    "                    ('Hashtags', hashtags)):\n",
    "    c = Counter(data)\n",
    "    plt.hist(c.values())\n",
    "    plt.title(label)\n",
    "    plt.ylabel(\"Number of items in bin\")\n",
    "    plt.xlabel(\"Bins (number of times an item appeared)\")\n",
    "    plt.figure();"
   ]
  },
  {
   "cell_type": "markdown",
   "metadata": {
    "slideshow": {
     "slide_type": "slide"
    }
   },
   "source": [
    "#Management and Basic Visualization of Data"
   ]
  },
  {
   "cell_type": "markdown",
   "metadata": {
    "slideshow": {
     "slide_type": "subslide"
    }
   },
   "source": [
    "###Overall Data System Diagram\n",
    "\n",
    "[![Schematic][2]][1]\n",
    "\n",
    "  [1]: https://docs.google.com/drawings/d/1CrJRuq6oyJ1jgT-zPkIt2ZfEXT1a-p_c8-ftZ_6_rbY/edit?usp=sharing\n",
    "  [2]: ./3for2_Level3.png"
   ]
  },
  {
   "cell_type": "markdown",
   "metadata": {
    "slideshow": {
     "slide_type": "subslide"
    }
   },
   "source": [
    "##Data Management Options"
   ]
  },
  {
   "cell_type": "markdown",
   "metadata": {
    "slideshow": {
     "slide_type": "fragment"
    }
   },
   "source": [
    "- Where do we put all of the data when we stream it out of the REST API?"
   ]
  },
  {
   "cell_type": "markdown",
   "metadata": {
    "slideshow": {
     "slide_type": "fragment"
    }
   },
   "source": [
    "- We need speed and accessibility"
   ]
  },
  {
   "cell_type": "markdown",
   "metadata": {
    "slideshow": {
     "slide_type": "subslide"
    }
   },
   "source": [
    "###Databases designed specifically for time-series data\n",
    "\n",
    "[![iobeam][2]][1]\n",
    "\n",
    "  [1]: http://influxdb.com/\n",
    "  [2]: ./influxdb-light400.png"
   ]
  },
  {
   "cell_type": "markdown",
   "metadata": {
    "slideshow": {
     "slide_type": "subslide"
    }
   },
   "source": [
    "###Open-source time-series data platform (by SoundCloud)\n",
    "\n",
    "[![Prometheus][2]][1]\n",
    "\n",
    "  [1]: http://prometheus.io/\n",
    "  [2]: ./prometheus.png"
   ]
  },
  {
   "cell_type": "markdown",
   "metadata": {
    "slideshow": {
     "slide_type": "subslide"
    }
   },
   "source": [
    "###Princeton Startup\n",
    "\n",
    "[![alt text][2]][1]\n",
    "\n",
    "  [1]: http://www.cs.princeton.edu/~mfreed/\n",
    "  [2]: ./iobeam.png"
   ]
  },
  {
   "cell_type": "markdown",
   "metadata": {
    "slideshow": {
     "slide_type": "subslide"
    }
   },
   "source": [
    "##Basic Raw Dashboard"
   ]
  },
  {
   "cell_type": "markdown",
   "metadata": {
    "slideshow": {
     "slide_type": "fragment"
    }
   },
   "source": [
    "- A simple interface to navigate the raw data collection"
   ]
  },
  {
   "cell_type": "markdown",
   "metadata": {
    "slideshow": {
     "slide_type": "fragment"
    }
   },
   "source": [
    "- Completely customizable and user friendly"
   ]
  },
  {
   "cell_type": "markdown",
   "metadata": {
    "slideshow": {
     "slide_type": "subslide"
    }
   },
   "source": [
    "###Open-source dashboarding platform\n",
    "\n",
    "[![Grafana][2]][1]\n",
    "\n",
    "  [1]: http://grafana.org/\n",
    "  [2]: ./grafana.png\n",
    "  "
   ]
  },
  {
   "cell_type": "markdown",
   "metadata": {
    "slideshow": {
     "slide_type": "slide"
    }
   },
   "source": [
    "#Data for Occupants and Visitors"
   ]
  },
  {
   "cell_type": "markdown",
   "metadata": {
    "slideshow": {
     "slide_type": "fragment"
    }
   },
   "source": [
    "- Very simple, fun visualizations for visitors and occupants"
   ]
  },
  {
   "cell_type": "markdown",
   "metadata": {
    "slideshow": {
     "slide_type": "fragment"
    }
   },
   "source": [
    "- Telling the 3for2 Story!"
   ]
  },
  {
   "cell_type": "markdown",
   "metadata": {
    "slideshow": {
     "slide_type": "subslide"
    }
   },
   "source": [
    "###Interactive Storytelling Example\n",
    "\n",
    "[![Interactive Storytelling][2]][1]\n",
    "  [1]: http://www.nytimes.com/newsgraphics/2013/12/30/year-in-interactive-storytelling/\n",
    "  [2]: ./interactive.png"
   ]
  },
  {
   "cell_type": "markdown",
   "metadata": {
    "slideshow": {
     "slide_type": "skip"
    }
   },
   "source": [
    "###Interactive Storytelling Example\n",
    "\n",
    "[![Google][2]][1]\n",
    "  [1]: https://www.google.com/culturalinstitute/exhibit/the-second-world-war-in-100-items/5QJC6kUuV0xCKw?projectId=second-world-war&position=0%3A0\n",
    "  [2]: ./secondworldwar.png"
   ]
  },
  {
   "cell_type": "markdown",
   "metadata": {
    "slideshow": {
     "slide_type": "subslide"
    }
   },
   "source": [
    "###Interactive Storytelling Example\n",
    "\n",
    "[![GreenHoney][2]][1]\n",
    "  [1]: http://muyueh.com/greenhoney/\n",
    "  [2]: ./greenhoney.png"
   ]
  },
  {
   "cell_type": "markdown",
   "metadata": {
    "slideshow": {
     "slide_type": "subslide"
    }
   },
   "source": [
    "###An Open Source JavaScript Platform for Interactive Storyingtelling\n",
    "\n",
    "[![Stack][2]][1]\n",
    "  [1]: http://mbostock.github.io/stack/\n",
    "  [2]: ./stack.png"
   ]
  },
  {
   "cell_type": "markdown",
   "metadata": {
    "slideshow": {
     "slide_type": "slide"
    }
   },
   "source": [
    "#Data for Research and Technical Operations Analysis"
   ]
  },
  {
   "cell_type": "markdown",
   "metadata": {
    "slideshow": {
     "slide_type": "fragment"
    }
   },
   "source": [
    "- Visual Analytics Prototypes"
   ]
  },
  {
   "cell_type": "markdown",
   "metadata": {
    "slideshow": {
     "slide_type": "fragment"
    }
   },
   "source": [
    "- Meter Disaggregation"
   ]
  },
  {
   "cell_type": "markdown",
   "metadata": {
    "slideshow": {
     "slide_type": "fragment"
    }
   },
   "source": [
    "- Internet of Things (IoT) supplemental data "
   ]
  },
  {
   "cell_type": "code",
   "execution_count": null,
   "metadata": {
    "collapsed": true
   },
   "outputs": [],
   "source": []
  },
  {
   "cell_type": "markdown",
   "metadata": {
    "slideshow": {
     "slide_type": "subslide"
    }
   },
   "source": [
    "##Visual Information Seeking Mantra"
   ]
  },
  {
   "cell_type": "markdown",
   "metadata": {
    "slideshow": {
     "slide_type": "fragment"
    }
   },
   "source": [
    "Overview First -  Gain an overview of the entire collection. "
   ]
  },
  {
   "cell_type": "markdown",
   "metadata": {
    "slideshow": {
     "slide_type": "fragment"
    }
   },
   "source": [
    "Zoom and Filter -  Zoom in on items of interest and Filter out unimportant information"
   ]
  },
  {
   "cell_type": "markdown",
   "metadata": {
    "slideshow": {
     "slide_type": "fragment"
    }
   },
   "source": [
    "Details on Demand - Select and item and get more detailed information when needed"
   ]
  },
  {
   "cell_type": "markdown",
   "metadata": {
    "slideshow": {
     "slide_type": "subslide"
    }
   },
   "source": [
    "##Overview First -- Campus Level\n",
    "\n",
    "[![Princeton][2]][1]\n",
    "  [1]: http://52.1.224.93/\n",
    "  [2]: ./princetoncampus.png"
   ]
  },
  {
   "cell_type": "markdown",
   "metadata": {
    "slideshow": {
     "slide_type": "skip"
    }
   },
   "source": [
    "- Princeton: http://52.1.224.93/\n",
    "- Find what's important\n",
    "- Screening Paper\n",
    "- DayFilter Paper\n",
    "- Kale Platform"
   ]
  },
  {
   "cell_type": "markdown",
   "metadata": {
    "slideshow": {
     "slide_type": "subslide"
    }
   },
   "source": [
    "##Overview First - Building Systems Level\n",
    "\n",
    "![systems][2]\n",
    "\n",
    "  [2]: ./systems.png"
   ]
  },
  {
   "cell_type": "markdown",
   "metadata": {
    "slideshow": {
     "slide_type": "subslide"
    }
   },
   "source": [
    "###Systems Hierarchy Visualization Prototypes"
   ]
  },
  {
   "cell_type": "code",
   "execution_count": null,
   "metadata": {
    "collapsed": false,
    "slideshow": {
     "slide_type": "-"
    }
   },
   "outputs": [],
   "source": [
    "HTML('<iframe src=http://clayton-lightning.herokuapp.com/visualizations/26/iframe/ width=700 height=500></iframe>')"
   ]
  },
  {
   "cell_type": "markdown",
   "metadata": {
    "slideshow": {
     "slide_type": "subslide"
    }
   },
   "source": [
    "###Research in pattern recognition\n",
    "\n",
    "![alt text][2]\n",
    "\n",
    "  [2]: ./dayfilter.png"
   ]
  },
  {
   "cell_type": "markdown",
   "metadata": {
    "slideshow": {
     "slide_type": "subslide"
    }
   },
   "source": [
    "###Pattern recognition to find 'interesting' behaviour\n",
    "\n",
    "![alt text][2]\n",
    "\n",
    "  [2]: ./DiscordSankeyExampleWithHeatmapV2.png"
   ]
  },
  {
   "cell_type": "markdown",
   "metadata": {
    "slideshow": {
     "slide_type": "subslide"
    }
   },
   "source": [
    "###Application on whole buidling\n",
    "\n",
    "![alt text][2]\n",
    "\n",
    "  [2]: ./dayfilter_whole.png"
   ]
  },
  {
   "cell_type": "code",
   "execution_count": null,
   "metadata": {
    "collapsed": false,
    "slideshow": {
     "slide_type": "subslide"
    }
   },
   "outputs": [],
   "source": [
    "HTML('<iframe src=http://clayton-lightning.herokuapp.com/visualizations/35/iframe/ width=700 height=500></iframe>')"
   ]
  },
  {
   "cell_type": "markdown",
   "metadata": {
    "slideshow": {
     "slide_type": "subslide"
    }
   },
   "source": [
    "##Zoom and Filter\n",
    "\n",
    "- Intermediate level of detail to zoom in and identify interesting behaviour"
   ]
  },
  {
   "cell_type": "markdown",
   "metadata": {
    "slideshow": {
     "slide_type": "subslide"
    }
   },
   "source": [
    "###Using heatmaps and filtering techniques to identify what is important\n",
    "\n",
    "![alt text][2]\n",
    "\n",
    "  [2]: ./forensicpaper.png"
   ]
  },
  {
   "cell_type": "markdown",
   "metadata": {
    "slideshow": {
     "slide_type": "subslide"
    }
   },
   "source": [
    "###Heatmaps\n",
    "\n",
    "![Heatmaps][2]\n",
    "\n",
    "  [2]: ./heatmap3.png"
   ]
  },
  {
   "cell_type": "markdown",
   "metadata": {
    "slideshow": {
     "slide_type": "subslide"
    }
   },
   "source": [
    "\n",
    "[![cal-heatmap][2]][1]\n",
    "  [1]: https://kamisama.github.io/cal-heatmap/\n",
    "  [2]: ./cal-heatmap.png"
   ]
  },
  {
   "cell_type": "markdown",
   "metadata": {
    "slideshow": {
     "slide_type": "subslide"
    }
   },
   "source": [
    "##Details on Demand"
   ]
  },
  {
   "cell_type": "code",
   "execution_count": null,
   "metadata": {
    "collapsed": false,
    "scrolled": true
   },
   "outputs": [],
   "source": [
    "HTML('<iframe src=http://clayton-lightning.herokuapp.com/visualizations/37/iframe/ width=700 height=500></iframe>')"
   ]
  },
  {
   "cell_type": "markdown",
   "metadata": {
    "slideshow": {
     "slide_type": "subslide"
    }
   },
   "source": [
    "##Meter Disaggregation - decomposing a single power meter into 'virtual' submeters\n",
    "\n",
    "[![alt text][2]][1]\n",
    "\n",
    "  [1]: https://github.com/nilmtk/nilmtk\n",
    "  [2]: ./nilmtk.png"
   ]
  },
  {
   "cell_type": "markdown",
   "metadata": {
    "slideshow": {
     "slide_type": "subslide"
    }
   },
   "source": [
    "###Internet of Things (IoT) Temporary Data Systems\n",
    "\n",
    "[![alt text][2]][1]\n",
    "\n",
    "  [1]: http://chaos.princeton.edu/ongoing-projects/side-projects/\n",
    "  [2]: ./hackingsustainability.png"
   ]
  },
  {
   "cell_type": "markdown",
   "metadata": {
    "slideshow": {
     "slide_type": "subslide"
    }
   },
   "source": [
    "###Internet of Things (IoT) Temporary Data Systems\n",
    "\n",
    "[![alt text][2]][1]\n",
    "\n",
    "  [1]: https://www.spark.io/\n",
    "  [2]: ./sparkcore.png"
   ]
  },
  {
   "cell_type": "markdown",
   "metadata": {
    "slideshow": {
     "slide_type": "slide"
    }
   },
   "source": [
    "#Questions?"
   ]
  }
 ],
 "metadata": {
  "celltoolbar": "Slideshow",
  "hide_input": false,
  "kernelspec": {
   "display_name": "Python 2",
   "language": "python",
   "name": "python2"
  },
  "language_info": {
   "codemirror_mode": {
    "name": "ipython",
    "version": 2
   },
   "file_extension": ".py",
   "mimetype": "text/x-python",
   "name": "python",
   "nbconvert_exporter": "python",
   "pygments_lexer": "ipython2",
   "version": "2.7.6"
  }
 },
 "nbformat": 4,
 "nbformat_minor": 0
}
